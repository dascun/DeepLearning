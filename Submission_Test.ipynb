{
 "cells": [
  {
   "cell_type": "code",
   "execution_count": null,
   "metadata": {},
   "outputs": [],
   "source": [
    "import pandas as pd\n",
    "import numpy as np\n",
    "import json\n",
    "from tqdm import tqdm"
   ]
  },
  {
   "cell_type": "code",
   "execution_count": null,
   "metadata": {},
   "outputs": [],
   "source": [
    "train = pd.read_csv(\"C:\\\\Users\\\\Win10\\\\Downloads\\\\train- Capillary 4\\\\train.csv\",parse_dates=['OrderDate']).reset_index()\n",
    "test = pd.read_csv(\"C:\\\\Users\\\\Win10\\\\Downloads\\\\test_nFNPSyV.csv\")\n",
    "ss = pd.read_csv(\"C:\\\\Users\\\\Win10\\\\Downloads\\\\sample_submission_qfCnaKZ.csv\")\n",
    "pa = pd.read_csv(\"C:\\\\Users\\\\Win10\\\\Downloads\\\\train- Capillary 4\\\\product_attributes.csv\")"
   ]
  },
  {
   "cell_type": "code",
   "execution_count": null,
   "metadata": {},
   "outputs": [],
   "source": [
    "pa = pd.pivot_table(pa,columns='attribute_name',index='productid',values='attributevalue').reset_index()\n",
    "train = pd.merge(train,pa)\n",
    "global_top = train.groupby(\"productid\").nunique().sort_values('UserId',ascending = False).head(10)"
   ]
  },
  {
   "cell_type": "code",
   "execution_count": null,
   "metadata": {},
   "outputs": [],
   "source": [
    "for t in tqdm(test.iterrows(),total=2350):\n",
    "    user_id = t[1]['UserId']\n",
    "    user_top = pd.concat([train[train['UserId'] == user_id].groupby(\"productid\")[['Quantity']].count(),\n",
    "               train[train['UserId'] == user_id].groupby(\"productid\")[['OrderDate']].max()],\n",
    "              axis = 1).sort_values(['Quantity','OrderDate'],ascending = [False,False])\n",
    "    preds = list(user_top.head(10).index.values)"
   ]
  },
  {
   "cell_type": "code",
   "execution_count": 1,
   "metadata": {},
   "outputs": [],
   "source": [
    "import pandas as pd\n",
    "\n",
    "raw_data = pd.read_csv(\"C:\\\\Users\\\\Win10\\\\Downloads\\\\train.csv\")[['UserId','productid','Quantity']]"
   ]
  },
  {
   "cell_type": "code",
   "execution_count": 2,
   "metadata": {},
   "outputs": [],
   "source": [
    "n_latent_factors_user = 5\n",
    "n_latent_factors_user = 8"
   ]
  },
  {
   "cell_type": "code",
   "execution_count": 3,
   "metadata": {},
   "outputs": [
    {
     "name": "stderr",
     "output_type": "stream",
     "text": [
      "Using TensorFlow backend.\n"
     ]
    }
   ],
   "source": [
    "import keras\n",
    "from keras.optimizers import Adam\n",
    "\n",
    "n_users = len(raw_data.UserId.unique())\n",
    "user_input = keras.layers.Input(shape=[1],name='User')\n",
    "user_vec = keras.layers.Flatten(name='FlattenUsers')(keras.layers.Embedding(n_users + 1, n_latent_factors_user,name='User-Embedding')(user_input))\n",
    "user_vec = keras.layers.Dropout(0.2)(user_vec)"
   ]
  },
  {
   "cell_type": "code",
   "execution_count": 4,
   "metadata": {},
   "outputs": [],
   "source": [
    "product_input = keras.layers.Input(shape=[128,],name='Product')\n",
    "product_vec = keras.layers.Flatten(name='FlattenProduct')(keras.layers.Embedding(n_users + 1, n_latent_factors_user,name='Product-Embedding')(product_input))\n",
    "product_vec = keras.layers.Dropout(0.2)(product_vec)"
   ]
  },
  {
   "cell_type": "code",
   "execution_count": 5,
   "metadata": {},
   "outputs": [
    {
     "name": "stderr",
     "output_type": "stream",
     "text": [
      "C:\\Users\\Win10\\Anaconda3\\envs\\deeplearning\\lib\\site-packages\\ipykernel_launcher.py:1: UserWarning: The `merge` function is deprecated and will be removed after 08/2017. Use instead layers from `keras.layers.merge`, e.g. `add`, `concatenate`, etc.\n",
      "  \"\"\"Entry point for launching an IPython kernel.\n",
      "C:\\Users\\Win10\\Anaconda3\\envs\\deeplearning\\lib\\site-packages\\keras\\legacy\\layers.py:458: UserWarning: The `Merge` layer is deprecated and will be removed after 08/2017. Use instead layers from `keras.layers.merge`, e.g. `add`, `concatenate`, etc.\n",
      "  name=name)\n"
     ]
    }
   ],
   "source": [
    "concat = keras.layers.merge([user_vec, product_vec], mode='concat',name='Concat')\n",
    "concat_dropout = keras.layers.Dropout(0.2)(concat)\n",
    "dense = keras.layers.Dense(200,name='FullyConnected')(concat)\n",
    "dropout_1 = keras.layers.Dropout(0.2,name='Dropout')(dense)\n",
    "dense_2 = keras.layers.Dense(100,name='FullyConnected-1')(concat)\n",
    "dropout_2 = keras.layers.Dropout(0.2,name='Dropout')(dense_2)\n",
    "dense_3 = keras.layers.Dense(50,name='FullyConnected-2')(dense_2)\n",
    "dropout_3 = keras.layers.Dropout(0.2,name='Dropout')(dense_3)\n",
    "dense_4 = keras.layers.Dense(20,name='FullyConnected-3', activation='relu')(dense_3)\n",
    "\n",
    "result = keras.layers.Dense(1, activation='relu',name='Activation')(dense_4)\n",
    "adam = Adam(lr=0.005)\n",
    "model = keras.Model([user_input, product_input], result)\n",
    "model.compile(optimizer=adam,loss= 'mean_absolute_error')"
   ]
  },
  {
   "cell_type": "code",
   "execution_count": 6,
   "metadata": {},
   "outputs": [],
   "source": [
    "import numpy as np\n",
    "\n",
    "product_embeddings = pd.DataFrame(np.load('product_embeddings.npy'))\n",
    "product_id = np.load('product_id.npy')\n",
    "product = pd.DataFrame()\n",
    "product['productid'] = [int(i.split(\".\")[0]) for i in product_id]\n",
    "product = product.join(product_embeddings)"
   ]
  },
  {
   "cell_type": "code",
   "execution_count": 7,
   "metadata": {},
   "outputs": [],
   "source": [
    "train = pd.merge(raw_data, product, on=['productid'])"
   ]
  },
  {
   "cell_type": "code",
   "execution_count": 8,
   "metadata": {},
   "outputs": [],
   "source": [
    "train[train < 0] = 0"
   ]
  },
  {
   "cell_type": "code",
   "execution_count": 11,
   "metadata": {},
   "outputs": [
    {
     "name": "stdout",
     "output_type": "stream",
     "text": [
      "Epoch 1/5\n",
      "132551/132551 [==============================] - 7s 51us/step - loss: 0.0143\n",
      "Epoch 2/5\n",
      "132551/132551 [==============================] - 7s 51us/step - loss: 0.0143\n",
      "Epoch 3/5\n",
      "132551/132551 [==============================] - 7s 51us/step - loss: 0.0143\n",
      "Epoch 4/5\n",
      "132551/132551 [==============================] - 7s 51us/step - loss: 0.0143\n",
      "Epoch 5/5\n",
      "132551/132551 [==============================] - 7s 51us/step - loss: 0.0144\n"
     ]
    }
   ],
   "source": [
    "history = model.fit([train.UserId, train.iloc[:,3:].values], train.Quantity, epochs=5, batch_size=128, shuffle=True)"
   ]
  },
  {
   "cell_type": "code",
   "execution_count": 17,
   "metadata": {},
   "outputs": [
    {
     "name": "stdout",
     "output_type": "stream",
     "text": [
      "__________________________________________________________________________________________________\n",
      "Layer (type)                    Output Shape         Param #     Connected to                     \n",
      "==================================================================================================\n",
      "User (InputLayer)               (None, 1)            0                                            \n",
      "__________________________________________________________________________________________________\n",
      "Product (InputLayer)            (None, 128)          0                                            \n",
      "__________________________________________________________________________________________________\n",
      "User-Embedding (Embedding)      (None, 1, 8)         222232      User[0][0]                       \n",
      "__________________________________________________________________________________________________\n",
      "Product-Embedding (Embedding)   (None, 128, 8)       222232      Product[0][0]                    \n",
      "__________________________________________________________________________________________________\n",
      "FlattenUsers (Flatten)          (None, 8)            0           User-Embedding[0][0]             \n",
      "__________________________________________________________________________________________________\n",
      "FlattenProduct (Flatten)        (None, 1024)         0           Product-Embedding[0][0]          \n",
      "__________________________________________________________________________________________________\n",
      "dropout_1 (Dropout)             (None, 8)            0           FlattenUsers[0][0]               \n",
      "__________________________________________________________________________________________________\n",
      "dropout_2 (Dropout)             (None, 1024)         0           FlattenProduct[0][0]             \n",
      "__________________________________________________________________________________________________\n",
      "Concat (Merge)                  (None, 1032)         0           dropout_1[0][0]                  \n",
      "                                                                 dropout_2[0][0]                  \n",
      "__________________________________________________________________________________________________\n",
      "FullyConnected-1 (Dense)        (None, 100)          103300      Concat[0][0]                     \n",
      "__________________________________________________________________________________________________\n",
      "FullyConnected-2 (Dense)        (None, 50)           5050        FullyConnected-1[0][0]           \n",
      "__________________________________________________________________________________________________\n",
      "FullyConnected-3 (Dense)        (None, 20)           1020        FullyConnected-2[0][0]           \n",
      "__________________________________________________________________________________________________\n",
      "Activation (Dense)              (None, 1)            21          FullyConnected-3[0][0]           \n",
      "==================================================================================================\n",
      "Total params: 553,855\n",
      "Trainable params: 553,855\n",
      "Non-trainable params: 0\n",
      "__________________________________________________________________________________________________\n"
     ]
    }
   ],
   "source": [
    "model.summary()"
   ]
  }
 ],
 "metadata": {
  "kernelspec": {
   "display_name": "Python 3",
   "language": "python",
   "name": "python3"
  },
  "language_info": {
   "codemirror_mode": {
    "name": "ipython",
    "version": 3
   },
   "file_extension": ".py",
   "mimetype": "text/x-python",
   "name": "python",
   "nbconvert_exporter": "python",
   "pygments_lexer": "ipython3",
   "version": "3.6.3"
  }
 },
 "nbformat": 4,
 "nbformat_minor": 2
}
