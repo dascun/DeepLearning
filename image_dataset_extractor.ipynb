{
 "cells": [
  {
   "cell_type": "code",
   "execution_count": 2,
   "metadata": {},
   "outputs": [],
   "source": [
    "import cv2\n",
    "import os\n",
    "import numpy as np\n",
    "\n",
    "folder = \"C:\\\\Users\\\\Win10\\\\Downloads\\\\train- Capillary 4\\\\images\"\n",
    "\n",
    "def load_images_from_folder(folder):\n",
    "    files = []\n",
    "    images = []\n",
    "    images_resize = []\n",
    "    for filename in os.listdir(folder):\n",
    "        img = cv2.imread(os.path.join(folder,filename))\n",
    "        if img is not None:\n",
    "            files.append(filename)\n",
    "            images.append(img)\n",
    "            img = cv2.resize(img, (128, 128))\n",
    "            images_resize.append(img)\n",
    "            \n",
    "    return files, images, images_resize\n",
    "\n",
    "files, images, images_resize = load_images_from_folder(folder)\n",
    "\n",
    "#np.save('images_dataset.npy', np.array(images_resize))\n",
    "np.save('product_id.npy', np.array(files))"
   ]
  },
  {
   "cell_type": "code",
   "execution_count": null,
   "metadata": {},
   "outputs": [],
   "source": []
  }
 ],
 "metadata": {
  "kernelspec": {
   "display_name": "Python 3",
   "language": "python",
   "name": "python3"
  },
  "language_info": {
   "codemirror_mode": {
    "name": "ipython",
    "version": 3
   },
   "file_extension": ".py",
   "mimetype": "text/x-python",
   "name": "python",
   "nbconvert_exporter": "python",
   "pygments_lexer": "ipython3",
   "version": "3.6.3"
  }
 },
 "nbformat": 4,
 "nbformat_minor": 2
}
